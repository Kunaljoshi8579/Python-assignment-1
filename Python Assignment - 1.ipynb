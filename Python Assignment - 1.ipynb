{
 "cells": [
  {
   "cell_type": "code",
   "execution_count": 20,
   "id": "cff3e694-f449-4703-976c-e96c220fdae0",
   "metadata": {},
   "outputs": [],
   "source": [
    "# Ans 1 "
   ]
  },
  {
   "cell_type": "code",
   "execution_count": null,
   "id": "2b35b6bd-cca9-49ba-9e45-d5a5dd06f1bc",
   "metadata": {},
   "outputs": [],
   "source": [
    "# The keyword used to create a function in Python is def. Here's a simple function that returns a list of odd numbers in the range of 1 to 25"
   ]
  },
  {
   "cell_type": "code",
   "execution_count": 28,
   "id": "743f0db7-9c91-44cc-88cf-f1438d7c55d3",
   "metadata": {},
   "outputs": [
    {
     "name": "stdout",
     "output_type": "stream",
     "text": [
      "<function a at 0x7fbed4632cb0>\n"
     ]
    }
   ],
   "source": [
    "def a():\n",
    "    a=[]\n",
    "    for i in range(1 , 25):\n",
    "        if i % 2 ==0:\n",
    "            a.append(i)\n",
    "    return a  \n",
    "print(a)\n",
    "            "
   ]
  },
  {
   "cell_type": "code",
   "execution_count": 29,
   "id": "a0ecc9e2-73b8-4eb8-9f74-1592ecf8dfa0",
   "metadata": {},
   "outputs": [],
   "source": [
    "# Ans 2"
   ]
  },
  {
   "cell_type": "code",
   "execution_count": 30,
   "id": "ebefc77b-eec1-4dfb-9260-47815570dfda",
   "metadata": {},
   "outputs": [],
   "source": [
    "# *args and **kwargs are used in functions to accept a variable number of positional and keyword arguments, respectively.\n",
    "\n",
    "# Here are simple examples"
   ]
  },
  {
   "cell_type": "code",
   "execution_count": 31,
   "id": "c759746b-6980-4823-862a-0959a4ac7293",
   "metadata": {},
   "outputs": [
    {
     "name": "stdout",
     "output_type": "stream",
     "text": [
      "6\n"
     ]
    }
   ],
   "source": [
    "def add(*args):\n",
    "    return sum(args)\n",
    "\n",
    "result = add(1, 2, 3)\n",
    "print(result)"
   ]
  },
  {
   "cell_type": "code",
   "execution_count": 34,
   "id": "7098e976-6bdb-4f92-beab-2db5eab76ad1",
   "metadata": {},
   "outputs": [
    {
     "name": "stdout",
     "output_type": "stream",
     "text": [
      "Hello, Kunal\n"
     ]
    }
   ],
   "source": [
    "def test(**kwargs):\n",
    "    return f\"Hello, {kwargs['name']}\"\n",
    "\n",
    "result = test(name=\"Kunal\")\n",
    "print(result)"
   ]
  },
  {
   "cell_type": "code",
   "execution_count": 41,
   "id": "c6274ae6-27eb-4a1e-9001-64a4c73a2220",
   "metadata": {},
   "outputs": [],
   "source": [
    "# *args collects positional arguments into a tuple, and **kwargs collects keyword arguments into a dictionary, allowing more flexible function parameter handling."
   ]
  },
  {
   "cell_type": "code",
   "execution_count": 42,
   "id": "f5e09921-3131-43ec-9bb1-0ffef07fd51b",
   "metadata": {},
   "outputs": [],
   "source": [
    "# Ans 3"
   ]
  },
  {
   "cell_type": "code",
   "execution_count": null,
   "id": "47d45cef-9baf-4d68-9ae5-e6067e359829",
   "metadata": {},
   "outputs": [],
   "source": [
    "# An iterator in Python is an object that can be iterated (looped) over. To initialize an iterator, you use the iter() method, and to iterate through the elements, you use the next() method. Here's how to use them to print the first five elements of a list"
   ]
  },
  {
   "cell_type": "code",
   "execution_count": 43,
   "id": "5e4128a5-7579-4caf-a752-b220d0c7c965",
   "metadata": {},
   "outputs": [
    {
     "name": "stdout",
     "output_type": "stream",
     "text": [
      "2\n",
      "4\n",
      "6\n",
      "8\n",
      "10\n"
     ]
    }
   ],
   "source": [
    "my_list = [2, 4, 6, 8, 10, 12, 14, 16, 18, 20]\n",
    "\n",
    "# Initialize an iterator object\n",
    "my_iterator = iter(my_list)\n",
    "\n",
    "# Iterate and print the first five elements\n",
    "for _ in range(5):\n",
    "    element = next(my_iterator)\n",
    "    print(element)"
   ]
  },
  {
   "cell_type": "code",
   "execution_count": 44,
   "id": "cf63db14-0888-4f88-a7c8-f999d0ddcaa3",
   "metadata": {},
   "outputs": [],
   "source": [
    "# Ans 4"
   ]
  },
  {
   "cell_type": "code",
   "execution_count": null,
   "id": "18b13897-d82f-437e-8438-019aad1cd636",
   "metadata": {},
   "outputs": [],
   "source": [
    "# A generator function in Python is a function that uses the yield keyword to produce a series of values one at a time, allowing you to create an iterator in a memory-efficient way. It doesn't terminate the function like return. Generator functions are useful for working with large data sets and lazy evaluation"
   ]
  },
  {
   "cell_type": "code",
   "execution_count": 45,
   "id": "328f3879-7e2f-4345-9763-27fc9d415edf",
   "metadata": {},
   "outputs": [
    {
     "name": "stdout",
     "output_type": "stream",
     "text": [
      "0\n",
      "1\n",
      "4\n",
      "9\n",
      "16\n"
     ]
    }
   ],
   "source": [
    "def square_numbers(n):\n",
    "    for i in range(n):\n",
    "        yield i ** 2\n",
    "\n",
    "my_iterator = square_numbers(5)\n",
    "\n",
    "for square in my_iterator:\n",
    "    print(square)"
   ]
  },
  {
   "cell_type": "code",
   "execution_count": 46,
   "id": "c0d9b3ea-17cc-4250-a203-df75f09bc9b0",
   "metadata": {},
   "outputs": [],
   "source": [
    "# Ans 5"
   ]
  },
  {
   "cell_type": "code",
   "execution_count": 47,
   "id": "b6ef4349-f06f-43c4-8d6b-69c61fbf53d9",
   "metadata": {},
   "outputs": [
    {
     "name": "stdout",
     "output_type": "stream",
     "text": [
      "2\n",
      "3\n",
      "5\n",
      "7\n",
      "11\n",
      "13\n",
      "17\n",
      "19\n",
      "23\n",
      "29\n",
      "31\n",
      "37\n",
      "41\n",
      "43\n",
      "47\n",
      "53\n",
      "59\n",
      "61\n",
      "67\n",
      "71\n"
     ]
    }
   ],
   "source": [
    "def is_prime(num):\n",
    "    if num < 2:\n",
    "        return False\n",
    "    for i in range(2, int(num**0.5) + 1):\n",
    "        if num % i == 0:\n",
    "            return False\n",
    "    return True\n",
    "\n",
    "def prime_generator():\n",
    "    num = 2\n",
    "    while True:\n",
    "        if is_prime(num):\n",
    "            yield num\n",
    "        num += 1\n",
    "\n",
    "primes = prime_generator()\n",
    "\n",
    "for _ in range(20):\n",
    "    print(next(primes))"
   ]
  },
  {
   "cell_type": "code",
   "execution_count": 48,
   "id": "2bae603f-0d58-43fb-9027-98e07cf28a55",
   "metadata": {},
   "outputs": [],
   "source": [
    "# Ans 6"
   ]
  },
  {
   "cell_type": "code",
   "execution_count": 49,
   "id": "96f05122-a1db-463d-bee0-2cabcd812e6d",
   "metadata": {},
   "outputs": [
    {
     "name": "stdout",
     "output_type": "stream",
     "text": [
      "0 1 1 2 3 5 8 13 21 34 "
     ]
    }
   ],
   "source": [
    "a, b = 0, 1\n",
    "count = 0\n",
    "\n",
    "while count < 10:\n",
    "    print(a, end=\" \")\n",
    "    a, b = b, a + b\n",
    "    count += 1"
   ]
  },
  {
   "cell_type": "code",
   "execution_count": 50,
   "id": "abdea817-7537-4515-9b9a-9d052e9e29ae",
   "metadata": {},
   "outputs": [],
   "source": [
    "# Ans 7"
   ]
  },
  {
   "cell_type": "code",
   "execution_count": 56,
   "id": "8ae5e5bf-7ab6-44a4-a165-736393d0910d",
   "metadata": {},
   "outputs": [
    {
     "name": "stdout",
     "output_type": "stream",
     "text": [
      "['p', 'w', 's', 'k', 'i', 'l', 'l', 's']\n"
     ]
    }
   ],
   "source": [
    "a = 'pwskills'\n",
    "result_list = []\n",
    "for i in a:\n",
    "    result_list.append(i)\n",
    "print(result_list)"
   ]
  },
  {
   "cell_type": "code",
   "execution_count": null,
   "id": "ee00c9cb-ee91-48d8-87e1-82f18bd1e519",
   "metadata": {},
   "outputs": [],
   "source": [
    "# Ans 8"
   ]
  },
  {
   "cell_type": "code",
   "execution_count": null,
   "id": "1a7bf899-d70d-4c4a-9a38-af40a796ece2",
   "metadata": {},
   "outputs": [],
   "source": [
    "# Ans 9"
   ]
  },
  {
   "cell_type": "code",
   "execution_count": null,
   "id": "f6328d8a-886f-4848-9a93-9ef5bab68543",
   "metadata": {},
   "outputs": [],
   "source": [
    "odd_numbers = [x for x in range(1, 101) if x % 2 != 0]\n",
    "print(odd_numbers)"
   ]
  },
  {
   "cell_type": "code",
   "execution_count": null,
   "id": "7873f9a8-25d2-418d-ad06-eebf559e31a7",
   "metadata": {},
   "outputs": [],
   "source": []
  }
 ],
 "metadata": {
  "kernelspec": {
   "display_name": "Python 3 (ipykernel)",
   "language": "python",
   "name": "python3"
  },
  "language_info": {
   "codemirror_mode": {
    "name": "ipython",
    "version": 3
   },
   "file_extension": ".py",
   "mimetype": "text/x-python",
   "name": "python",
   "nbconvert_exporter": "python",
   "pygments_lexer": "ipython3",
   "version": "3.10.8"
  }
 },
 "nbformat": 4,
 "nbformat_minor": 5
}
